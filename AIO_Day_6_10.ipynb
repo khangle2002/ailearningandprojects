{
  "nbformat": 4,
  "nbformat_minor": 0,
  "metadata": {
    "colab": {
      "provenance": [],
      "authorship_tag": "ABX9TyNbsFGZXsl14O7RKNg5B/65",
      "include_colab_link": true
    },
    "kernelspec": {
      "name": "python3",
      "display_name": "Python 3"
    },
    "language_info": {
      "name": "python"
    }
  },
  "cells": [
    {
      "cell_type": "markdown",
      "metadata": {
        "id": "view-in-github",
        "colab_type": "text"
      },
      "source": [
        "<a href=\"https://colab.research.google.com/github/khangle2002/ailearningandprojects/blob/main/AIO_Day_6_10.ipynb\" target=\"_parent\"><img src=\"https://colab.research.google.com/assets/colab-badge.svg\" alt=\"Open In Colab\"/></a>"
      ]
    },
    {
      "cell_type": "markdown",
      "source": [
        "# Day 6"
      ],
      "metadata": {
        "id": "X0DfdogEjUbj"
      }
    },
    {
      "cell_type": "code",
      "execution_count": null,
      "metadata": {
        "colab": {
          "base_uri": "https://localhost:8080/"
        },
        "id": "9-IXKRCthQ38",
        "outputId": "d0b4aedb-450c-492d-9735-f6f42828b477"
      },
      "outputs": [
        {
          "output_type": "stream",
          "name": "stdout",
          "text": [
            "[1, 2, 3, 4, 5]\n",
            "1 2 3 4 5\n",
            "1\n",
            "3\n",
            "5\n",
            "7\n",
            "9\n",
            "Tổng các giá trị trong list là 55\n"
          ]
        }
      ],
      "source": [
        "lst_data= list(range(1,11,1))\n",
        "\n",
        "# Câu 2: In ra 5 phần tử đầu tiên có trong List trên\n",
        "print(lst_data[:5])\n",
        "print(lst_data[0], lst_data[1], lst_data[2], lst_data[3], lst_data[4])\n",
        "\n",
        "# Câu 3: In ra các phần tử có giá trị không chia hết cho 2\n",
        "for i in lst_data:\n",
        "  if i % 2 != 0:\n",
        "    print(i)\n",
        "\n",
        "# Câu 4: In ra tổng các giá trị trong list (dùng vòng lặp for)\n",
        "total = 0\n",
        "for i in lst_data:\n",
        "  total += i\n",
        "\n",
        "print(\"Tổng các giá trị trong list là\", total)"
      ]
    },
    {
      "cell_type": "markdown",
      "source": [
        "# Day 7"
      ],
      "metadata": {
        "id": "JOptZe3Wj7JZ"
      }
    },
    {
      "cell_type": "code",
      "source": [
        "lst_data= list(range(2,13,2))\n",
        "\n",
        "print(\"List of even numbers from 1 to 12:\", lst_data)\n",
        "\n",
        "for i in lst_data:\n",
        "  if i % 3 == 0:\n",
        "    lst_data.remove(i)\n",
        "print(\"List when removed all numbers that are divisible by 3:\", lst_data)\n",
        "\n",
        "lst_data.append(1)\n",
        "lst_data.append(2)\n",
        "lst_data.append(3)\n",
        "print(\"Append the numbers from 1 to 3 to the end of the list\",lst_data)\n",
        "lst_data.insert(3, 8)\n",
        "lst_data.insert(3, 7)\n",
        "lst_data.insert(3, 6)\n",
        "print(\"Insert a sequence of numbers from 6 to 8 at index 3\", lst_data)\n",
        "\n",
        "for idx in range(len(lst_data)):\n",
        "    if lst_data[idx] % 2 == 0 or lst_data[idx] % 5 == 0:\n",
        "        lst_data[idx] = 0\n",
        "print(\"For any number in the list that is divisible by 2 or 5, update it to 0:\", lst_data)"
      ],
      "metadata": {
        "colab": {
          "base_uri": "https://localhost:8080/"
        },
        "id": "cSp2aeB-p9Yi",
        "outputId": "f266cdcd-ab71-4bf7-8e03-3c7eabcaccf4"
      },
      "execution_count": null,
      "outputs": [
        {
          "output_type": "stream",
          "name": "stdout",
          "text": [
            "List of even numbers from 1 to 12: [2, 4, 6, 8, 10, 12]\n",
            "List when removed all numbers that are divisible by 3: [2, 4, 8, 10]\n",
            "Append the numbers from 1 to 3 to the end of the list [2, 4, 8, 10, 1, 2, 3]\n",
            "Insert a sequence of numbers from 6 to 8 at index 3 [2, 4, 8, 6, 7, 8, 10, 1, 2, 3]\n",
            "For any number in the list that is divisible by 2 or 5, update it to 0: [0, 0, 0, 0, 7, 0, 0, 1, 0, 3]\n"
          ]
        }
      ]
    },
    {
      "cell_type": "markdown",
      "source": [
        "# Day 8"
      ],
      "metadata": {
        "id": "sSa1AHWKmbWH"
      }
    },
    {
      "cell_type": "code",
      "source": [
        "my_tuple1 = (2,3)\n",
        "my_tuple2 = (3,6)\n",
        "\n",
        "result_vector1 = (my_tuple1[0] + my_tuple2[0], my_tuple1[1] + my_tuple2[1])\n",
        "result_vector2 = (my_tuple1[0] * my_tuple2[0], my_tuple1[1] * my_tuple2[1])\n",
        "\n",
        "\n",
        "print(result_vector1)\n",
        "print(result_vector2)\n",
        "\n",
        "import math\n",
        "\n",
        "distance = math.sqrt((my_tuple1[0] - my_tuple2[0])**2 + (my_tuple1[1] - my_tuple2[1])**2)\n",
        "print(distance)\n",
        "\n",
        "my_tuple1_index = my_tuple1.index(3)\n",
        "my_tuple2_index = my_tuple2.index(3)\n",
        "\n",
        "print(my_tuple1_index)\n",
        "print(my_tuple2_index)"
      ],
      "metadata": {
        "colab": {
          "base_uri": "https://localhost:8080/"
        },
        "id": "jNR_r3qVmgSj",
        "outputId": "1634ed65-8a3f-4bf0-d35f-59196b120749"
      },
      "execution_count": null,
      "outputs": [
        {
          "output_type": "stream",
          "name": "stdout",
          "text": [
            "(5, 9)\n",
            "(6, 18)\n",
            "3.1622776601683795\n",
            "1\n",
            "0\n"
          ]
        }
      ]
    },
    {
      "cell_type": "code",
      "source": [
        "corpus = [\"Tôi thích môn Toán\", \"Tôi thích AI\", \"Tôi thích âm nhạc\"]\n",
        "\n",
        "bag_set = set()\n",
        "for document in corpus:\n",
        "    words = document.split()\n",
        "    bag_set.update(words)\n",
        "\n",
        "bag = sorted(bag_set)\n",
        "\n",
        "print(\"Bag-of-Words:\", bag)\n",
        "\n",
        "sentence = \"Tôi thích AI thích Toán\"\n",
        "tokens_sentence = sentence.split()\n",
        "\n",
        "vector = []\n",
        "for word in bag:\n",
        "    count = tokens_sentence.count(word)\n",
        "    vector.append(count)\n",
        "\n",
        "print(\"Tôi thích AI thích toán\", vector)\n"
      ],
      "metadata": {
        "colab": {
          "base_uri": "https://localhost:8080/"
        },
        "id": "CeRxpOdRqPH5",
        "outputId": "ea9338e2-d20c-4459-8578-450af0ea7366"
      },
      "execution_count": null,
      "outputs": [
        {
          "output_type": "stream",
          "name": "stdout",
          "text": [
            "Bag-of-Words: ['AI', 'Toán', 'Tôi', 'môn', 'nhạc', 'thích', 'âm']\n",
            "Tôi thích AI thích toán [1, 1, 1, 0, 0, 2, 0]\n"
          ]
        }
      ]
    },
    {
      "cell_type": "code",
      "source": [
        "lst_data = [1, 1.1, None, 1.4, None, 1.5, None, 2.0]\n",
        "\n",
        "def find_first_none(data):\n",
        "    for index in range(len(data)):\n",
        "        if data[index] is None:\n",
        "            return index\n",
        "    return None\n",
        "\n",
        "print(find_first_none(lst_data))\n",
        "\n",
        "def find_all_none(data):\n",
        "  all_none = []\n",
        "  for index in range(len(data)):\n",
        "    if data[index] is None:\n",
        "      all_none.append(index)\n",
        "  return all_none\n",
        "\n",
        "print(find_all_none(lst_data))"
      ],
      "metadata": {
        "colab": {
          "base_uri": "https://localhost:8080/"
        },
        "id": "czKwNmfQseUf",
        "outputId": "8221a5a0-8461-4737-f782-ca0364407127"
      },
      "execution_count": null,
      "outputs": [
        {
          "output_type": "stream",
          "name": "stdout",
          "text": [
            "2\n",
            "[2, 4, 6]\n"
          ]
        }
      ]
    },
    {
      "cell_type": "code",
      "source": [
        "lst_data = [1, 1.1, None, 1.4, None, 1.5, None, 2.0]\n",
        "\n",
        "def interpolate(data):\n",
        "  for index in range(len(data)):\n",
        "    if data[index] is None:\n",
        "      data[index] = data[index-1]\n",
        "    else:\n",
        "      continue\n",
        "  return data\n",
        "\n",
        "print(interpolate(lst_data))"
      ],
      "metadata": {
        "colab": {
          "base_uri": "https://localhost:8080/"
        },
        "id": "K5V1EsFLwYIY",
        "outputId": "0a862a4a-c5fd-4f6f-bda3-45ef78f0d8ac"
      },
      "execution_count": null,
      "outputs": [
        {
          "output_type": "stream",
          "name": "stdout",
          "text": [
            "[1, 1.1, 1.1, 1.4, 1.4, 1.5, 1.5, 2.0]\n"
          ]
        }
      ]
    },
    {
      "cell_type": "code",
      "source": [
        "list_2d = [\n",
        "[1 , 2 , 3] ,\n",
        "[4 , 5 , 6] ,\n",
        "[7 , 8 , 9] ,\n",
        "]\n",
        "\n",
        "list_sub_data = []\n",
        "for row in list_2d:\n",
        "    new_row = [row[0], row[2]]\n",
        "    list_sub_data.append(new_row)\n",
        "\n",
        "print(list_sub_data)"
      ],
      "metadata": {
        "colab": {
          "base_uri": "https://localhost:8080/"
        },
        "id": "MbAPjgriz7HU",
        "outputId": "0b01d253-9912-4b1c-b791-09066f9c00df"
      },
      "execution_count": null,
      "outputs": [
        {
          "output_type": "stream",
          "name": "stdout",
          "text": [
            "[[1, 3], [4, 6], [7, 9]]\n"
          ]
        }
      ]
    },
    {
      "cell_type": "code",
      "source": [
        "A = [\n",
        "[1 , 2 , 3] ,\n",
        "[4 , 5 , 6] ,\n",
        "[7 , 8 , 9] ,\n",
        "]\n",
        "\n",
        "B = [\n",
        "[2 , 4 , 6] ,\n",
        "[1 , 3 , 5] ,\n",
        "[1 , 0 , 1] ,\n",
        "]\n",
        "\n",
        "sum_matrix = []\n",
        "diff_matrix = []\n",
        "\n",
        "# Duyệt qua các hàng (index i từ 0 đến 2)\n",
        "for i in range(3):\n",
        "    row_sum = []\n",
        "    row_diff = []\n",
        "    for j in range(3):\n",
        "        row_sum.append(A[i][j] + B[i][j])\n",
        "        row_diff.append(A[i][j] - B[i][j])\n",
        "    sum_matrix.append(row_sum)\n",
        "    diff_matrix.append(row_diff)\n",
        "\n",
        "# Câu 2: Tính dot product của A và B (tích ma trận)\n",
        "dot_product = []  # Ma trận kết quả của A dot B\n",
        "\n",
        "# Công thức: result[i][j] = A[i][0]*B[0][j] + A[i][1]*B[1][j] + A[i][2]*B[2][j]\n",
        "for i in range(3):\n",
        "    row_result = []\n",
        "    for j in range(3):\n",
        "        s = 0  # Biến lưu tổng các tích của hàng i của A và cột j của B\n",
        "        for k in range(3):\n",
        "            s += A[i][k] * B[k][j]\n",
        "        row_result.append(s)\n",
        "    dot_product.append(row_result)\n",
        "\n",
        "# In kết quả ra màn hình\n",
        "print(\"Ma trận A + B:\")\n",
        "for row in sum_matrix:\n",
        "    print(row)\n",
        "\n",
        "print(\"\\nMa trận A - B:\")\n",
        "for row in diff_matrix:\n",
        "    print(row)\n",
        "\n",
        "print(\"\\nTích ma trận (A dot B):\")\n",
        "for row in dot_product:\n",
        "    print(row)\n"
      ],
      "metadata": {
        "colab": {
          "base_uri": "https://localhost:8080/"
        },
        "id": "gADI-pw7242k",
        "outputId": "31986ab2-7a77-419d-e271-f7ccaa1a8ba0"
      },
      "execution_count": null,
      "outputs": [
        {
          "output_type": "stream",
          "name": "stdout",
          "text": [
            "Ma trận A + B:\n",
            "[3, 6, 9]\n",
            "[5, 8, 11]\n",
            "[8, 8, 10]\n",
            "\n",
            "Ma trận A - B:\n",
            "[-1, -2, -3]\n",
            "[3, 2, 1]\n",
            "[6, 8, 8]\n",
            "\n",
            "Tích ma trận (A dot B):\n",
            "[7, 10, 19]\n",
            "[19, 31, 55]\n",
            "[31, 52, 91]\n"
          ]
        }
      ]
    },
    {
      "cell_type": "code",
      "source": [
        "stop_words = [\"I\", \"love\", \"and\", \"to\"]\n",
        "sentence = \"I love AI and listen to music\"\n",
        "\n",
        "words = sentence.split()\n",
        "\n",
        "filtered_words = [word for word in words if word not in stop_words]\n",
        "\n",
        "print(filtered_words)\n"
      ],
      "metadata": {
        "colab": {
          "base_uri": "https://localhost:8080/"
        },
        "id": "nN7KYoaq4e8q",
        "outputId": "2a6ba81d-c73e-46a2-d5f3-45ac60f3367a"
      },
      "execution_count": null,
      "outputs": [
        {
          "output_type": "stream",
          "name": "stdout",
          "text": [
            "['AI', 'listen', 'music']\n"
          ]
        }
      ]
    },
    {
      "cell_type": "code",
      "source": [
        "def normalize(lst_data):\n",
        "    min_value = min(lst_data)\n",
        "    max_value = max(lst_data)\n",
        "\n",
        "    if max_value == min_value:\n",
        "        return [0 for _ in lst_data]\n",
        "\n",
        "    normalized = []\n",
        "    for x in lst_data:\n",
        "        norm_value = (x - min_value) / (max_value - min_value)\n",
        "        normalized.append(norm_value)\n",
        "\n",
        "    return normalized\n",
        "\n",
        "test_cases = [\n",
        "    [11, 18, 24, 30, 36],\n",
        "    [50, 100, 150, 200, 250],\n",
        "    [3, 5, 7, 9, 11]\n",
        "]\n",
        "\n",
        "for i, test in enumerate(test_cases):\n",
        "    result = normalize(test)\n",
        "    print(f\"Test {i + 1}: {result}\")\n"
      ],
      "metadata": {
        "colab": {
          "base_uri": "https://localhost:8080/"
        },
        "id": "oFom-Wd05Z5b",
        "outputId": "c9689fb4-99aa-4858-c1f1-463aa1667241"
      },
      "execution_count": null,
      "outputs": [
        {
          "output_type": "stream",
          "name": "stdout",
          "text": [
            "Test 1: [0.0, 0.28, 0.52, 0.76, 1.0]\n",
            "Test 2: [0.0, 0.25, 0.5, 0.75, 1.0]\n",
            "Test 3: [0.0, 0.25, 0.5, 0.75, 1.0]\n"
          ]
        }
      ]
    },
    {
      "cell_type": "code",
      "source": [
        "def moving_average(lst, k):\n",
        "    result = []\n",
        "    n = len(lst)\n",
        "\n",
        "    for i in range(n - k + 1):\n",
        "        sum_window = 0\n",
        "        for j in range(i, i + k):\n",
        "            sum_window += lst[j]\n",
        "        avg = sum_window / k\n",
        "        result.append(avg)\n",
        "\n",
        "    return result\n",
        "\n",
        "test_cases = [\n",
        "    ([1, 2, 3, 4, 5, 6, 7, 8, 9], 3),\n",
        "    ([10, 20, 30, 40, 50, 60, 70], 4),\n",
        "    ([5, 10, 15, 20, 25], 2)\n",
        "]\n",
        "\n",
        "\n",
        "for idx, (lst, k) in enumerate(test_cases):\n",
        "    print(f\"Test {idx + 1}: {moving_average(lst, k)}\")\n"
      ],
      "metadata": {
        "colab": {
          "base_uri": "https://localhost:8080/"
        },
        "id": "c8Lx-QAb6P2f",
        "outputId": "4e74fa3a-a43d-4a9b-ca0d-66649d9360b5"
      },
      "execution_count": null,
      "outputs": [
        {
          "output_type": "stream",
          "name": "stdout",
          "text": [
            "Test 1: [2.0, 3.0, 4.0, 5.0, 6.0, 7.0, 8.0]\n",
            "Test 2: [25.0, 35.0, 45.0, 55.0]\n",
            "Test 3: [7.5, 12.5, 17.5, 22.5]\n"
          ]
        }
      ]
    },
    {
      "cell_type": "code",
      "source": [
        "def dot_product(v1, v2):\n",
        "    result = 0\n",
        "    for i in range(len(v1)):\n",
        "        result += v1[i] * v2[i]\n",
        "    return result\n",
        "\n",
        "# Các test case đã cho\n",
        "test_cases = [\n",
        "    ([1, 2, 3], [4, 5, 6]),\n",
        "    ([2, 4, 6], [1, 3, 5]),\n",
        "    ([0, 1, 2], [3, 4, 5])\n",
        "]\n",
        "\n",
        "# Duyệt qua từng test case và in kết quả\n",
        "for i, (v1, v2) in enumerate(test_cases):\n",
        "    result = dot_product(v1, v2)\n",
        "    print(f\"Test {i + 1}: {result}\")\n"
      ],
      "metadata": {
        "colab": {
          "base_uri": "https://localhost:8080/"
        },
        "id": "i26A1U3I6fXu",
        "outputId": "4e2a5a62-6f1b-489b-eaaa-b3925aac2889"
      },
      "execution_count": null,
      "outputs": [
        {
          "output_type": "stream",
          "name": "stdout",
          "text": [
            "Test 1: 32\n",
            "Test 2: 44\n",
            "Test 3: 14\n"
          ]
        }
      ]
    },
    {
      "cell_type": "code",
      "source": [
        "def perceptron_relu(weights, inputs, bias):\n",
        "    net = 0\n",
        "    for i in range(len(weights)):\n",
        "        net += weights[i] * inputs[i]\n",
        "    net += bias\n",
        "\n",
        "    if net > 0:\n",
        "        return net\n",
        "    else:\n",
        "        return 0\n",
        "\n",
        "test_cases = [\n",
        "    ([0.5, -0.6, 0.8], [1.0, 0.0, 1.0], -0.3),\n",
        "    ([0.2, 0.5, -0.4], [1.0, 2.0, -1.0], 0.1),\n",
        "    ([1.0, -1.0, 0.5], [0.5, 1.0, -0.5], -0.2)\n",
        "]\n",
        "\n",
        "for i, (weights, inputs, bias) in enumerate(test_cases):\n",
        "    result = perceptron_relu(weights, inputs, bias)\n",
        "    print(f\"Test {i+1}: {result}\")\n"
      ],
      "metadata": {
        "colab": {
          "base_uri": "https://localhost:8080/"
        },
        "id": "n6Kadvlo7kwY",
        "outputId": "99717a3a-27d0-47c3-acbc-050015c588d7"
      },
      "execution_count": null,
      "outputs": [
        {
          "output_type": "stream",
          "name": "stdout",
          "text": [
            "Test 1: 1.0\n",
            "Test 2: 1.7000000000000002\n",
            "Test 3: 0\n"
          ]
        }
      ]
    },
    {
      "cell_type": "markdown",
      "source": [
        "# Day 9"
      ],
      "metadata": {
        "id": "EjLXVIXNmeHQ"
      }
    },
    {
      "cell_type": "code",
      "source": [
        "\n",
        "lst_data = list(range(1, 11))\n",
        "print(\"Câu 1:\", lst_data)\n",
        "\n",
        "n = len(lst_data)\n",
        "if n % 2 == 0:\n",
        "    median = (lst_data[n // 2 - 1] + lst_data[n // 2]) / 2\n",
        "else:\n",
        "    median = lst_data[n // 2]\n",
        "print(\"Câu 2: Median:\", median)\n",
        "\n",
        "lst_odd_filter = []\n",
        "for x in range(len(lst_data)):\n",
        "  if x % 2 == 1:\n",
        "    lst_odd_filter.append(x)\n",
        "lst_odd_filter = sorted(lst_odd_filter, reverse=True)\n",
        "print(\"Câu 3:\", lst_odd_filter)\n"
      ],
      "metadata": {
        "colab": {
          "base_uri": "https://localhost:8080/"
        },
        "id": "rxxJM8KS-E3d",
        "outputId": "999e1ca5-0fc7-411f-ff0d-0a9706f20893"
      },
      "execution_count": null,
      "outputs": [
        {
          "output_type": "stream",
          "name": "stdout",
          "text": [
            "Câu 1: [1, 2, 3, 4, 5, 6, 7, 8, 9, 10]\n",
            "Câu 2: Median: 5.5\n",
            "Câu 3: [9, 7, 5, 3, 1]\n"
          ]
        }
      ]
    },
    {
      "cell_type": "code",
      "source": [
        "lst_data=[1, 2, 3 , 4 , 5, 6 ,7 , 8, 9, 10]\n",
        "\n",
        "print(lst_data)\n",
        "\n",
        "total_odd = 0\n",
        "odd_number = 0\n",
        "for i in lst_data:\n",
        "  if i % 2 != 0:\n",
        "    total_odd += i\n",
        "    odd_number += 1\n",
        "    mean_odd = total_odd / odd_number\n",
        "\n",
        "print(\"Trung bình cộng các giá trị lẻ là\", mean_odd)\n",
        "\n",
        "total_even = 0\n",
        "even_number = 0\n",
        "for i in lst_data:\n",
        "  if i % 2 == 0:\n",
        "    total_even += i\n",
        "    even_number += 1\n",
        "    mean_even = total_even / even_number\n",
        "\n",
        "print(\"Trung bình cộng các giá trị chẵn là\", mean_even)\n",
        "\n",
        "total = 0\n",
        "for i in lst_data:\n",
        "    total += i\n",
        "    mean = total / len(lst_data)\n",
        "print(\"Trung bình cộng các giá trị trong list là\", mean)"
      ],
      "metadata": {
        "colab": {
          "base_uri": "https://localhost:8080/"
        },
        "id": "QkjNmxsMxCCh",
        "outputId": "1bc1b539-f25c-4c02-f8e0-221ea95f1ace"
      },
      "execution_count": null,
      "outputs": [
        {
          "output_type": "stream",
          "name": "stdout",
          "text": [
            "[1, 2, 3, 4, 5, 6, 7, 8, 9, 10]\n",
            "Trung bình cộng các giá trị lẻ là 5.0\n",
            "Trung bình cộng các giá trị chẵn là 6.0\n",
            "Trung bình cộng các giá trị trong list là 5.5\n"
          ]
        }
      ]
    },
    {
      "cell_type": "markdown",
      "source": [
        "# Day 10"
      ],
      "metadata": {
        "id": "dVyplD7BDgoQ"
      }
    },
    {
      "cell_type": "code",
      "source": [
        "import math\n",
        "\n",
        "def create_position_matrix(seq_length, embed_size):\n",
        "    position_matrix = [[0 for _ in range(embed_size)] for _ in range(seq_length)]\n",
        "    for pos in range(seq_length):\n",
        "        for i in range(embed_size):\n",
        "            angle = pos / (10000 ** ((2 * (i // 2)) / embed_size))\n",
        "            if i % 2 == 0:\n",
        "                position_matrix[pos][i] = math.sin(angle)\n",
        "            else:\n",
        "                position_matrix[pos][i] = math.cos(angle)\n",
        "    return position_matrix\n",
        "\n",
        "# Test\n",
        "seq_length = 10\n",
        "embed_size = 16\n",
        "position_matrix = create_position_matrix(seq_length, embed_size)\n",
        "print(position_matrix)\n"
      ],
      "metadata": {
        "colab": {
          "base_uri": "https://localhost:8080/"
        },
        "id": "4SHfYoLDBbj4",
        "outputId": "3c017097-a692-4e77-ff39-b7b3d89e815e"
      },
      "execution_count": null,
      "outputs": [
        {
          "output_type": "stream",
          "name": "stdout",
          "text": [
            "[[0.0, 1.0, 0.0, 1.0, 0.0, 1.0, 0.0, 1.0, 0.0, 1.0, 0.0, 1.0, 0.0, 1.0, 0.0, 1.0], [0.8414709848078965, 0.5403023058681398, 0.31098359290718575, 0.9504152802551828, 0.09983341664682815, 0.9950041652780258, 0.03161750640243371, 0.9995000416652778, 0.009999833334166664, 0.9999500004166653, 0.0031622723897082473, 0.9999950000041666, 0.0009999998333333417, 0.9999995000000417, 0.0003162277607463752, 0.9999999500000004], [0.9092974268256817, -0.4161468365471424, 0.5911271172152932, 0.8065784098850756, 0.19866933079506122, 0.9800665778412416, 0.06320339793316936, 0.9980006665777841, 0.01999866669333308, 0.9998000066665778, 0.00632451315671895, 0.9999800000666665, 0.0019999986666669333, 0.9999980000006666, 0.0006324554898699746, 0.9999998000000067], [0.1411200080598672, -0.9899924966004454, 0.8126488966420368, 0.5827536107022249, 0.29552020666133955, 0.955336489125606, 0.09472609133274612, 0.9955033739876628, 0.02999550020249566, 0.9995500337489875, 0.00948669067865079, 0.999955000337499, 0.002999995500002025, 0.999995500003375, 0.0009486831557480254, 0.9999995500000337], [-0.7568024953079282, -0.6536436208636119, 0.9535807404869198, 0.3011374625854739, 0.3894183423086505, 0.9210609940028851, 0.12615406653456793, 0.9920106609794029, 0.03998933418663416, 0.9992001066609779, 0.012648773333754897, 0.999920001066661, 0.003999989333341867, 0.9999920000106667, 0.0012649107267577616, 0.9999992000001067], [-0.9589242746631385, 0.28366218546322625, 0.9999465167896046, -0.010342318905209005, 0.479425538604203, 0.8775825618903728, 0.15745589818234365, 0.9875260199749633, 0.04997916927067833, 0.9987502603949663, 0.015810729501231077, 0.999875002604145, 0.004999979166692708, 0.9999875000260416, 0.001581138171276426, 0.9999987500002604], [-0.27941549819892586, 0.960170286650366, 0.9471481575026521, -0.3207964584270395, 0.5646424733950354, 0.8253356149096783, 0.1886002870528245, 0.9820539352416405, 0.059964006479444595, 0.9982005399352042, 0.018972527561543998, 0.9998200053999352, 0.0059999640000648, 0.999982000054, 0.0018973654576812746, 0.99999820000054], [0.6569865987187891, 0.7539022543433046, 0.8004216463225218, -0.5994373929764008, 0.644217687237691, 0.7648421872844885, 0.2195560913524192, 0.9755998784081762, 0.06994284733753277, 0.9975510002532796, 0.022134135896739408, 0.9997550100040032, 0.006999942833473391, 0.9999755001000415, 0.002213592554349579, 0.9999975500010004], [0.9893582466233818, -0.14550003380861354, 0.5743177691212167, -0.8186324572551646, 0.7173560908995228, 0.6967067093471654, 0.2502923578563926, 0.9681703029935836, 0.0799146939691727, 0.9968017063026194, 0.0252955228907603, 0.9996800170663026, 0.007999914666939733, 0.9999680001706663, 0.0025298194296586303, 0.9999968000017067], [0.4121184852417566, -0.9111302618846769, 0.29125912066722365, -0.9566441995999116, 0.7833269096274834, 0.6216099682706644, 0.28077835285951086, 0.9597726379541667, 0.08987854919801104, 0.9959527330119943, 0.028456656929763083, 0.9995950273367619, 0.008999878500492074, 0.9999595002733742, 0.00284604605198574, 0.9999959500027338]]\n"
          ]
        }
      ]
    }
  ]
}