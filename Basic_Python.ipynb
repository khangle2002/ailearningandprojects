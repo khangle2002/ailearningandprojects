{
  "nbformat": 4,
  "nbformat_minor": 0,
  "metadata": {
    "colab": {
      "provenance": [],
      "authorship_tag": "ABX9TyP5l49K9hcTVdzwqVE/5627",
      "include_colab_link": true
    },
    "kernelspec": {
      "name": "python3",
      "display_name": "Python 3"
    },
    "language_info": {
      "name": "python"
    }
  },
  "cells": [
    {
      "cell_type": "markdown",
      "metadata": {
        "id": "view-in-github",
        "colab_type": "text"
      },
      "source": [
        "<a href=\"https://colab.research.google.com/github/khangle2002/ailearningandprojects/blob/main/Basic_Python.ipynb\" target=\"_parent\"><img src=\"https://colab.research.google.com/assets/colab-badge.svg\" alt=\"Open In Colab\"/></a>"
      ]
    },
    {
      "cell_type": "code",
      "execution_count": 18,
      "metadata": {
        "colab": {
          "base_uri": "https://localhost:8080/"
        },
        "id": "HmW36WNQkj3e",
        "outputId": "a4c5a6c9-bfa9-47d6-aba0-07cd4210df1d"
      },
      "outputs": [
        {
          "output_type": "stream",
          "name": "stdout",
          "text": [
            "Find the derivative of the function:fx= x**3*(x+1)**(-1/2)\n",
            "Choose value of x: 2\n",
            "The function value is 4.618802153517006\n",
            "The derivative value is 6.158402871356008\n"
          ]
        }
      ],
      "source": [
        "#Import Math Module\n",
        "import math\n",
        "#Description\n",
        "print(\"Find the derivative of the function:fx= x**3*(x+1)**(-1/2)\")\n",
        "#Find the derivative of the function fx= x**3*(x+1)**(-1/2)\n",
        "x = float(input(\"Choose value of x: \"))\n",
        "#Find function value\n",
        "fx= (x**3)*((x+1)**(-1/2))\n",
        "print(\"The function value is\", fx)\n",
        "#Find derivative of the function\n",
        "df_dx= (x+1)**(-3/2)*((3*x**2)*(x+1)-((x**3)/2))\n",
        "print(\"The derivative value is\", df_dx)"
      ]
    },
    {
      "cell_type": "code",
      "source": [
        "#Description\n",
        "print(\"Find the derivative of the function:fx= x**3*sin(x**2)\")\n",
        "#Find the derivative of the function fx= (x**3)*sin(x**2)\n",
        "x_1 = float(input(\"Choose value of x: \"))\n",
        "#Find function value\n",
        "fx_1= (x_1**3)*math.sin(x_1**2)\n",
        "print(\"The derivative value is\", fx_1)\n",
        "#Find derivative of the function\n",
        "df_dx_1= 3*x_1**2*math.sin(x_1**2)+(x_1**3)*(2*x_1*math.cos(x_1**2))\n",
        "df_dx_1= 3*x_1**2*math.sin(x_1**2)+2*x_1**4*math.cos(x_1**2)\n",
        "print(\"The derivative value is\", df_dx_1)"
      ],
      "metadata": {
        "colab": {
          "base_uri": "https://localhost:8080/"
        },
        "id": "rutpUx87lr0O",
        "outputId": "434858b9-48a8-4d8e-990c-661138a50e68"
      },
      "execution_count": 19,
      "outputs": [
        {
          "output_type": "stream",
          "name": "stdout",
          "text": [
            "Find the derivative of the function:fx= x**3*sin(x**2)\n",
            "Choose value of x: 5\n",
            "The derivative value is -16.543968762221628\n",
            "The derivative value is 1229.0771335720092\n"
          ]
        }
      ]
    }
  ]
}