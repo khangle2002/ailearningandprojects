{
  "nbformat": 4,
  "nbformat_minor": 0,
  "metadata": {
    "colab": {
      "provenance": [],
      "toc_visible": true,
      "authorship_tag": "ABX9TyPW8A/+H2D6tK2PUmU3El3h",
      "include_colab_link": true
    },
    "kernelspec": {
      "name": "python3",
      "display_name": "Python 3"
    },
    "language_info": {
      "name": "python"
    }
  },
  "cells": [
    {
      "cell_type": "markdown",
      "metadata": {
        "id": "view-in-github",
        "colab_type": "text"
      },
      "source": [
        "<a href=\"https://colab.research.google.com/github/khangle2002/ailearningandprojects/blob/main/Basic_Python.ipynb\" target=\"_parent\"><img src=\"https://colab.research.google.com/assets/colab-badge.svg\" alt=\"Open In Colab\"/></a>"
      ]
    },
    {
      "cell_type": "markdown",
      "source": [
        "# Section 1"
      ],
      "metadata": {
        "id": "P2_5xEb8nf4n"
      }
    },
    {
      "cell_type": "code",
      "execution_count": null,
      "metadata": {
        "colab": {
          "base_uri": "https://localhost:8080/"
        },
        "id": "HmW36WNQkj3e",
        "outputId": "a4c5a6c9-bfa9-47d6-aba0-07cd4210df1d"
      },
      "outputs": [
        {
          "output_type": "stream",
          "name": "stdout",
          "text": [
            "Find the derivative of the function:fx= x**3*(x+1)**(-1/2)\n",
            "Choose value of x: 2\n",
            "The function value is 4.618802153517006\n",
            "The derivative value is 6.158402871356008\n"
          ]
        }
      ],
      "source": [
        "#Import Math Module\n",
        "import math\n",
        "#Description\n",
        "print(\"Find the derivative of the function:fx= x**3*(x+1)**(-1/2)\")\n",
        "#Find the derivative of the function fx= x**3*(x+1)**(-1/2)\n",
        "x = float(input(\"Choose value of x: \"))\n",
        "#Find function value\n",
        "fx= (x**3)*((x+1)**(-1/2))\n",
        "print(\"The function value is\", fx)\n",
        "#Find derivative of the function\n",
        "df_dx= (x+1)**(-3/2)*((3*x**2)*(x+1)-((x**3)/2))\n",
        "print(\"The derivative value is\", df_dx)"
      ]
    },
    {
      "cell_type": "code",
      "source": [
        "#Description\n",
        "print(\"Find the derivative of the function:fx= x**3*sin(x**2)\")\n",
        "#Find the derivative of the function fx= (x**3)*sin(x**2)\n",
        "x_1 = float(input(\"Choose value of x: \"))\n",
        "#Find function value\n",
        "fx_1= (x_1**3)*math.sin(x_1**2)\n",
        "print(\"The derivative value is\", fx_1)\n",
        "#Find derivative of the function\n",
        "df_dx_1= 3*x_1**2*math.sin(x_1**2)+(x_1**3)*(2*x_1*math.cos(x_1**2))\n",
        "df_dx_1= 3*x_1**2*math.sin(x_1**2)+2*x_1**4*math.cos(x_1**2)\n",
        "print(\"The derivative value is\", df_dx_1)"
      ],
      "metadata": {
        "colab": {
          "base_uri": "https://localhost:8080/"
        },
        "id": "rutpUx87lr0O",
        "outputId": "434858b9-48a8-4d8e-990c-661138a50e68"
      },
      "execution_count": null,
      "outputs": [
        {
          "output_type": "stream",
          "name": "stdout",
          "text": [
            "Find the derivative of the function:fx= x**3*sin(x**2)\n",
            "Choose value of x: 5\n",
            "The derivative value is -16.543968762221628\n",
            "The derivative value is 1229.0771335720092\n"
          ]
        }
      ]
    },
    {
      "cell_type": "markdown",
      "source": [
        "# Section 2\n",
        "Using learned functions and skills to apply for the Finance cases\n"
      ],
      "metadata": {
        "id": "At_yKU77nrfI"
      }
    },
    {
      "cell_type": "code",
      "source": [
        "#Build a Simple Compounded Interest Rate Calculator:\n",
        "import math\n",
        "#Get the user input\n",
        "principle = int(input (\"Enter the valid principle: \", ))\n",
        "rate = float(input(\"Enter the valid rate (in %): \", ))/100\n",
        "year = int(input(\"Enter the valid time: \", ))\n",
        "frequency = int(input(\"Enter the valid frequency: \", ))\n",
        "#Build the interest rate calculator:\n",
        "def compound_interest(principle, rate, year, frequency):\n",
        "  compound_interest = principle*(1+ rate/frequency)**(frequency*year)\n",
        "  return compound_interest\n",
        "#Print the result\n",
        "print(\"Amount received at the end of the period: \", round(compound_interest(principle, rate, year, frequency), 2))\n",
        "#Loop\n",
        "for year in range(1, year+1):\n",
        "  amount= compound_interest(principle, rate, year, frequency)\n",
        "  print(\"Amount received in \" + str(year) + \" year: \", round(amount, 2))\n",
        "\n",
        "#Compute the amount of time needed to double the principle\n",
        "def time_to_douple_principle(rate, year, frequency):\n",
        "  time_to_douple_principle= math.log(2)/(math.log((1+rate/frequency))*frequency)\n",
        "  return time_to_douple_principle\n",
        "\n",
        "print(\"Time needed to double the principle: \", round(time_to_douple_principle(rate, year, frequency), 2))\n"
      ],
      "metadata": {
        "colab": {
          "base_uri": "https://localhost:8080/"
        },
        "id": "-reCGZ3vmJ96",
        "outputId": "398004be-67d1-463f-db14-bb7bfcc4e9ee"
      },
      "execution_count": 88,
      "outputs": [
        {
          "output_type": "stream",
          "name": "stdout",
          "text": [
            "Enter the valid principle: 100\n",
            "Enter the valid rate (in %): 6\n",
            "Enter the valid time: 2\n",
            "Enter the valid frequency: 1\n",
            "Amount received at the end of the period:  112.36\n",
            "Amount received in 1 year:  106.0\n",
            "Amount received in 2 year:  112.36\n",
            "Time needed to double the principle:  11.9\n"
          ]
        }
      ]
    },
    {
      "cell_type": "code",
      "source": [
        "#Build a loan amortization schedule calculator\n",
        "\n",
        "#Get the user input\n",
        "loan_principle = int(input (\"Enter the valid loan principle: \", ))\n",
        "annual_rate = float(input(\"Enter the valid annual rate (in %): \", ))/(12*100)\n",
        "payment_terms = int(input(\"Enter the desired payment terms: \", ))\n",
        "\n",
        "#Build a loan amortization schedule calculator\n",
        "def loan_amortization_schedule(loan_principle, annual_rate, payment_terms):\n",
        "  loan_amortization_schedule = loan_principle*((annual_rate*(1+annual_rate)**payment_terms)/((1+annual_rate)**payment_terms-1))\n",
        "  return loan_amortization_schedule\n",
        "#Print the result\n",
        "print(\"The amount of monthly payments: \", round(loan_amortization_schedule(loan_principle, annual_rate, payment_terms), 2))\n",
        "#Update amount of monthly payments:\n",
        "monthly_payment = loan_amortization_schedule(loan_principle, annual_rate, payment_terms)\n",
        "#Loop\n",
        "remaining_balance = loan_principle\n",
        "for month in range(1, payment_terms+1):\n",
        "  interest_payment = remaining_balance * annual_rate\n",
        "  principle_payment = monthly_payment - interest_payment\n",
        "  remaining_balance -= principle_payment\n",
        "  print(\"Remaining balance after \" + str(month) + \" months: \", round(remaining_balance, 2))"
      ],
      "metadata": {
        "colab": {
          "base_uri": "https://localhost:8080/"
        },
        "id": "pZ5I31lN7x0j",
        "outputId": "ccac4955-82e2-4732-b7b2-d91a3253cb04"
      },
      "execution_count": 89,
      "outputs": [
        {
          "output_type": "stream",
          "name": "stdout",
          "text": [
            "Enter the valid loan principle: 100000\n",
            "Enter the valid annual rate (in %): 4\n",
            "Enter the desired payment terms: 10\n",
            "The amount of monthly payments:  10184.25\n",
            "Remaining balance after 1 months:  90149.08\n",
            "Remaining balance after 2 months:  80265.33\n",
            "Remaining balance after 3 months:  70348.64\n",
            "Remaining balance after 4 months:  60398.88\n",
            "Remaining balance after 5 months:  50415.96\n",
            "Remaining balance after 6 months:  40399.77\n",
            "Remaining balance after 7 months:  30350.19\n",
            "Remaining balance after 8 months:  20267.11\n",
            "Remaining balance after 9 months:  10150.41\n",
            "Remaining balance after 10 months:  0.0\n"
          ]
        }
      ]
    }
  ]
}