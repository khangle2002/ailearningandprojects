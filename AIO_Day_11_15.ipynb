{
  "nbformat": 4,
  "nbformat_minor": 0,
  "metadata": {
    "colab": {
      "provenance": [],
      "authorship_tag": "ABX9TyNkygVClYObzMQGhe3rKJGS",
      "include_colab_link": true
    },
    "kernelspec": {
      "name": "python3",
      "display_name": "Python 3"
    },
    "language_info": {
      "name": "python"
    }
  },
  "cells": [
    {
      "cell_type": "markdown",
      "metadata": {
        "id": "view-in-github",
        "colab_type": "text"
      },
      "source": [
        "<a href=\"https://colab.research.google.com/github/khangle2002/ailearningandprojects/blob/main/AIO_Day_11_15.ipynb\" target=\"_parent\"><img src=\"https://colab.research.google.com/assets/colab-badge.svg\" alt=\"Open In Colab\"/></a>"
      ]
    },
    {
      "cell_type": "markdown",
      "source": [
        "# ***Day 11***"
      ],
      "metadata": {
        "id": "h3gpid9-ON6D"
      }
    },
    {
      "cell_type": "code",
      "execution_count": null,
      "metadata": {
        "colab": {
          "base_uri": "https://localhost:8080/"
        },
        "id": "LvxKymyjvmXo",
        "outputId": "3a54564a-59a7-4a4d-e8ab-e823f7560d84"
      },
      "outputs": [
        {
          "output_type": "stream",
          "name": "stdout",
          "text": [
            "[[29, 39], [59, 69]]\n",
            "[[30]]\n"
          ]
        }
      ],
      "source": [
        "A = [[1, 2, 3], [4, 5, 6], [7, 8 ,9]]\n",
        "B = [[2, 4],[1, 3]]\n",
        "\n",
        "def convolution(matrix_a, matrix_b):\n",
        "  n_rows = len(matrix_a)-len(matrix_b)\n",
        "  n_colums = len(matrix_a[0]) - len(matrix_b[0])\n",
        "  result = []\n",
        "\n",
        "\n",
        "  if n_rows < 0 or n_colums < 0:\n",
        "      return result\n",
        "\n",
        "  for i in range(n_rows + 1):\n",
        "      row = []\n",
        "      for j in range(n_colums + 1):\n",
        "          sum_value = 0\n",
        "          for k in range(len(matrix_b)):\n",
        "              for l in range(len(matrix_b[0])):\n",
        "                sum_value += matrix_a[i + k][j + l] * matrix_b[k][l]\n",
        "          row.append(sum_value)\n",
        "      result.append(row)\n",
        "  return result\n",
        "\n",
        "result = convolution(A, B)\n",
        "print(result)\n",
        "\n",
        "C = [[1, 1, 1], [0, 0 ,0], [1, 1, 1]]\n",
        "\n",
        "result = convolution(A, C)\n",
        "print(result)"
      ]
    },
    {
      "cell_type": "code",
      "source": [
        "A = [[0, 0, 0], [0, 4, 0], [0, 1, 0]]\n",
        "B = [[1, 1],[1, 1]]\n",
        "\n",
        "def padded_convolution(matrix_a, matrix_b, padding_size):\n",
        "    n_rows = len(matrix_a)\n",
        "    n_cols = len(matrix_a[0])\n",
        "\n",
        "    padded_rows = n_rows + 2 * padding_size\n",
        "    padded_cols = n_cols + 2 * padding_size\n",
        "    padded_matrix = [[0] * padded_cols for _ in range(padded_rows)]\n",
        "\n",
        "    for i in range(n_rows):\n",
        "        for j in range(n_cols):\n",
        "            padded_matrix[i + padding_size][j + padding_size] = matrix_a[i][j]\n",
        "\n",
        "    conv_rows = len(padded_matrix) - len(matrix_b)\n",
        "    conv_cols = len(padded_matrix[0]) - len(matrix_b[0])\n",
        "    result = []\n",
        "\n",
        "    if conv_rows < 0 or conv_cols < 0:\n",
        "        return result\n",
        "\n",
        "    for i in range(conv_rows + 1):\n",
        "        row = []\n",
        "        for j in range(conv_cols + 1):\n",
        "            sum_value = 0\n",
        "            for k in range(len(matrix_b)):\n",
        "                for l in range(len(matrix_b[0])):\n",
        "                    sum_value += padded_matrix[i + k][j + l] * matrix_b[k][l]\n",
        "            row.append(sum_value)\n",
        "        result.append(row)\n",
        "\n",
        "    return result\n",
        "\n",
        "result = padded_convolution(A, B, 1)\n",
        "print(result)\n",
        "\n",
        "C = [[0, 1, 0], [0, 1, 0], [0, 1, 0]]\n",
        "\n",
        "result = padded_convolution(A, C, 1)\n",
        "print(result)"
      ],
      "metadata": {
        "colab": {
          "base_uri": "https://localhost:8080/"
        },
        "id": "i-5T6HWW-CfV",
        "outputId": "88be5ba1-6c81-476e-cf2f-820ff5acee45"
      },
      "execution_count": null,
      "outputs": [
        {
          "output_type": "stream",
          "name": "stdout",
          "text": [
            "[[0, 0, 0, 0], [0, 4, 4, 0], [0, 5, 5, 0], [0, 1, 1, 0]]\n",
            "[[0, 4, 0], [0, 5, 0], [0, 5, 0]]\n"
          ]
        }
      ]
    },
    {
      "cell_type": "code",
      "source": [
        "def max_pooling(matrix, pool_size):\n",
        "    num_rows = len(matrix)\n",
        "    num_cols = len(matrix[0])\n",
        "\n",
        "    out_rows = num_rows // pool_size\n",
        "    out_cols = num_cols // pool_size\n",
        "\n",
        "    pooled_matrix = [[0] * out_cols for _ in range(out_rows)]\n",
        "\n",
        "    for row in range(out_rows):\n",
        "        for col in range(out_cols):\n",
        "            start_row = row * pool_size\n",
        "            start_col = col * pool_size\n",
        "            max_value = 0\n",
        "            for i in range(pool_size):\n",
        "                for j in range(pool_size):\n",
        "                    max_value = max(max_value, matrix[start_row + i][start_col + j])\n",
        "\n",
        "            pooled_matrix[row][col] = max_value\n",
        "\n",
        "    return pooled_matrix\n",
        "\n",
        "def average_pooling(matrix, pool_size):\n",
        "    num_rows = len(matrix)\n",
        "    num_cols = len(matrix[0])\n",
        "\n",
        "    out_rows = num_rows // pool_size\n",
        "    out_cols = num_cols // pool_size\n",
        "\n",
        "    pooled_matrix = [[0] * out_cols for _ in range(out_rows)]\n",
        "\n",
        "    for row in range(out_rows):\n",
        "        for col in range(out_cols):\n",
        "            start_row = row * pool_size\n",
        "            start_col = col * pool_size\n",
        "            total = 0\n",
        "            for i in range(pool_size):\n",
        "                for j in range(pool_size):\n",
        "                  total += matrix[start_row + i][start_col + j]\n",
        "\n",
        "            pooled_matrix[row][col] = total / (pool_size * pool_size)\n",
        "    return pooled_matrix\n",
        "\n",
        "A = [[0, 0, 0, 4], [0, 4, 0, 2], [0, 1, 0, 2], [0, 3, 0, 2]]\n",
        "result_max = max_pooling(A, 2)\n",
        "result_average = average_pooling(A, 2)\n",
        "print(result_max)\n",
        "print(result_average)"
      ],
      "metadata": {
        "colab": {
          "base_uri": "https://localhost:8080/"
        },
        "id": "eE9zI-L_EPH6",
        "outputId": "df680319-4cb9-4a2f-e0ce-4051ed93abb3"
      },
      "execution_count": null,
      "outputs": [
        {
          "output_type": "stream",
          "name": "stdout",
          "text": [
            "[[4, 4], [3, 2]]\n",
            "[[1.0, 1.5], [1.0, 1.0]]\n"
          ]
        }
      ]
    },
    {
      "cell_type": "markdown",
      "source": [
        "# Day 12"
      ],
      "metadata": {
        "id": "_kqgUiyuO42o"
      }
    },
    {
      "cell_type": "code",
      "source": [],
      "metadata": {
        "id": "St9hYjBaaRxW"
      },
      "execution_count": null,
      "outputs": []
    },
    {
      "cell_type": "markdown",
      "source": [
        "# Day 13"
      ],
      "metadata": {
        "id": "RbvkhwMQaTg-"
      }
    },
    {
      "cell_type": "code",
      "source": [
        "import numpy as np\n",
        "A = np.array([[1, 2],[3, 4]])\n",
        "B = np.array([[5, 6],[7, 8]])\n",
        "\n",
        "C = A + B\n",
        "D = A - B\n",
        "print(C)\n",
        "\n",
        "print(D)"
      ],
      "metadata": {
        "colab": {
          "base_uri": "https://localhost:8080/"
        },
        "id": "xLtgHTSfaV41",
        "outputId": "34664d1d-bf70-407f-f25e-64a0e76828da"
      },
      "execution_count": null,
      "outputs": [
        {
          "output_type": "stream",
          "name": "stdout",
          "text": [
            "[[ 6  8]\n",
            " [10 12]]\n",
            "/n\n",
            "[[-4 -4]\n",
            " [-4 -4]]\n"
          ]
        }
      ]
    },
    {
      "cell_type": "code",
      "source": [
        "C = np.array([[2, -3],[4, -5]])\n",
        "D = np.array([[1, 4],[-2, 6]])\n",
        "\n",
        "print(C+D)\n",
        "print(C-D)"
      ],
      "metadata": {
        "colab": {
          "base_uri": "https://localhost:8080/"
        },
        "id": "sWBJ_ZxAbOjO",
        "outputId": "fc5394c9-4c61-4250-fef1-3c94a477d0e9"
      },
      "execution_count": null,
      "outputs": [
        {
          "output_type": "stream",
          "name": "stdout",
          "text": [
            "[[3 1]\n",
            " [2 1]]\n",
            "[[  1  -7]\n",
            " [  6 -11]]\n"
          ]
        }
      ]
    },
    {
      "cell_type": "code",
      "source": [],
      "metadata": {
        "id": "KnOiEU5ebjON"
      },
      "execution_count": null,
      "outputs": []
    }
  ]
}