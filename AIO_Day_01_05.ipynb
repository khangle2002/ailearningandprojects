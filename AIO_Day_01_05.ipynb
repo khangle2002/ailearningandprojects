{
  "nbformat": 4,
  "nbformat_minor": 0,
  "metadata": {
    "colab": {
      "provenance": [],
      "authorship_tag": "ABX9TyO9rP9TTdVQ9Vozaz/8W7Mx",
      "include_colab_link": true
    },
    "kernelspec": {
      "name": "python3",
      "display_name": "Python 3"
    },
    "language_info": {
      "name": "python"
    }
  },
  "cells": [
    {
      "cell_type": "markdown",
      "metadata": {
        "id": "view-in-github",
        "colab_type": "text"
      },
      "source": [
        "<a href=\"https://colab.research.google.com/github/khangle2002/ailearningandprojects/blob/main/AIO_Day_01_05.ipynb\" target=\"_parent\"><img src=\"https://colab.research.google.com/assets/colab-badge.svg\" alt=\"Open In Colab\"/></a>"
      ]
    },
    {
      "cell_type": "markdown",
      "source": [
        "# Day 1"
      ],
      "metadata": {
        "id": "wRnjyF83fg7E"
      }
    },
    {
      "cell_type": "code",
      "execution_count": null,
      "metadata": {
        "colab": {
          "base_uri": "https://localhost:8080/"
        },
        "id": "YP3vAnIRey9h",
        "outputId": "0b8e77d9-6836-4275-d3c3-a6d69b0c8ee9"
      },
      "outputs": [
        {
          "output_type": "stream",
          "name": "stdout",
          "text": [
            "Ất Tỵ\n",
            "Giáp Thìn\n",
            "Đinh Sửu\n"
          ]
        }
      ],
      "source": [
        "def calculate_can_chi_calendar(year):\n",
        "\n",
        "    if year % 10 == 0:\n",
        "        Can = \"Canh\"\n",
        "    elif year % 10 == 1:\n",
        "        Can = \"Tân\"\n",
        "    elif year % 10 == 2:\n",
        "        Can = \"Nhâm\"\n",
        "    elif year % 10 == 3:\n",
        "        Can = \"Quý\"\n",
        "    elif year % 10 == 4:\n",
        "        Can = \"Giáp\"\n",
        "    elif year % 10 == 5:\n",
        "        Can = \"Ất\"\n",
        "    elif year % 10 == 6:\n",
        "        Can = \"Bính\"\n",
        "    elif year % 10 == 7:\n",
        "        Can = \"Đinh\"\n",
        "    elif year % 10 == 8:\n",
        "        Can = \"Mậu\"\n",
        "    elif year % 10 == 9:\n",
        "        Can = \"Kỷ\"\n",
        "\n",
        "    if year % 12 == 0:\n",
        "        Chi = \"Thân\"\n",
        "    elif year % 12 == 1:\n",
        "        Chi = \"Dậu\"\n",
        "    elif year % 12 == 2:\n",
        "        Chi = \"Tuất\"\n",
        "    elif year % 12 == 3:\n",
        "        Chi = \"Hợi\"\n",
        "    elif year % 12 == 4:\n",
        "        Chi = \"Tý\"\n",
        "    elif year % 12 == 5:\n",
        "        Chi = \"Sửu\"\n",
        "    elif year % 12 == 6:\n",
        "        Chi = \"Dần\"\n",
        "    elif year % 12 == 7:\n",
        "        Chi = \"Mão\"\n",
        "    elif year % 12 == 8:\n",
        "        Chi = \"Thìn\"\n",
        "    elif year % 12 == 9:\n",
        "        Chi = \"Tỵ\"\n",
        "    elif year % 12 == 10:\n",
        "        Chi = \"Ngọ\"\n",
        "    elif year % 12 == 11:\n",
        "        Chi = \"Mùi\"\n",
        "\n",
        "    return Can + \" \" + Chi\n",
        "\n",
        "print(calculate_can_chi_calendar(2025))\n",
        "print(calculate_can_chi_calendar(2024))\n",
        "print(calculate_can_chi_calendar(1997))"
      ]
    },
    {
      "cell_type": "code",
      "source": [
        "def relu(x):\n",
        "  if x >0:\n",
        "    return x\n",
        "  else:\n",
        "    return 0\n",
        "print(relu(3))\n",
        "print(relu(-2))\n",
        "print(relu(0))"
      ],
      "metadata": {
        "colab": {
          "base_uri": "https://localhost:8080/"
        },
        "id": "2V82GKJkjQOO",
        "outputId": "88110f26-3308-4fc4-8db4-c42e7aa710dc"
      },
      "execution_count": null,
      "outputs": [
        {
          "output_type": "stream",
          "name": "stdout",
          "text": [
            "3\n",
            "0\n",
            "0\n"
          ]
        }
      ]
    },
    {
      "cell_type": "code",
      "source": [
        "def leaky_relu(x):\n",
        "  if x >0:\n",
        "    return x\n",
        "  else:\n",
        "    return 0.01*x\n",
        "print(leaky_relu(3))\n",
        "print(leaky_relu(-2))\n",
        "print(leaky_relu(0))"
      ],
      "metadata": {
        "colab": {
          "base_uri": "https://localhost:8080/"
        },
        "id": "kTWktSOvj7co",
        "outputId": "c0081580-b939-45db-d6d8-2c94c3768428"
      },
      "execution_count": null,
      "outputs": [
        {
          "output_type": "stream",
          "name": "stdout",
          "text": [
            "3\n",
            "-0.02\n",
            "0.0\n"
          ]
        }
      ]
    },
    {
      "cell_type": "code",
      "source": [
        "import math\n",
        "\n",
        "def sigmoid(x):\n",
        "  return 1/(1+math.exp(-x))\n",
        "print(sigmoid(0))\n",
        "print(sigmoid(2))\n",
        "print(sigmoid(-2))"
      ],
      "metadata": {
        "colab": {
          "base_uri": "https://localhost:8080/"
        },
        "id": "O11XxkLKkWLF",
        "outputId": "20c1a0af-8039-49fb-ffdf-f60508cdc6d5"
      },
      "execution_count": null,
      "outputs": [
        {
          "output_type": "stream",
          "name": "stdout",
          "text": [
            "0.5\n",
            "0.8807970779778823\n",
            "0.11920292202211755\n"
          ]
        }
      ]
    },
    {
      "cell_type": "code",
      "source": [
        "def tanh(x):\n",
        "  return (math.exp(x)-math.exp(-x))/(math.exp(x)+math.exp(-x))\n",
        "print(tanh(0))\n",
        "print(tanh(2))\n",
        "print(tanh(150))"
      ],
      "metadata": {
        "colab": {
          "base_uri": "https://localhost:8080/"
        },
        "id": "wehi4RNakwUK",
        "outputId": "539abdd5-02e2-4e79-8f70-857610e2f303"
      },
      "execution_count": null,
      "outputs": [
        {
          "output_type": "stream",
          "name": "stdout",
          "text": [
            "0.0\n",
            "0.964027580075817\n",
            "1.0\n"
          ]
        }
      ]
    },
    {
      "cell_type": "code",
      "source": [
        "def elu(x, alpha=1):\n",
        "  if x >0:\n",
        "    return x\n",
        "  else:\n",
        "    return alpha*(math.exp(x)-1)\n",
        "\n",
        "print(elu(3))\n",
        "print(elu(-1))\n",
        "print(elu(0))"
      ],
      "metadata": {
        "colab": {
          "base_uri": "https://localhost:8080/"
        },
        "id": "n8L667RblG5o",
        "outputId": "49915404-04e3-4e44-e9e3-733fe6bd0206"
      },
      "execution_count": null,
      "outputs": [
        {
          "output_type": "stream",
          "name": "stdout",
          "text": [
            "3\n",
            "-0.6321205588285577\n",
            "0.0\n"
          ]
        }
      ]
    },
    {
      "cell_type": "markdown",
      "source": [
        "# Day 2"
      ],
      "metadata": {
        "id": "uDKj5dOdfi9x"
      }
    },
    {
      "cell_type": "code",
      "source": [
        "def compute_interest(money, period):\n",
        "  interest_amount = (money + money/period)**period\n",
        "  return interest_amount\n",
        "\n",
        "print(compute_interest(1, 12))\n",
        "print(compute_interest(1, 365))\n",
        "print(compute_interest(1, 730))"
      ],
      "metadata": {
        "colab": {
          "base_uri": "https://localhost:8080/"
        },
        "id": "TTV4_slmfk_V",
        "outputId": "adeae3ae-f5b1-4f24-a780-8b7b9c3782bb"
      },
      "execution_count": 1,
      "outputs": [
        {
          "output_type": "stream",
          "name": "stdout",
          "text": [
            "2.613035290224676\n",
            "2.7145674820219727\n",
            "2.7164223264603464\n"
          ]
        }
      ]
    },
    {
      "cell_type": "code",
      "source": [
        "def is_prime_eratosthenes(n):\n",
        "  if n <2:\n",
        "    return False   # Nếu n nhỏ hơn 2, thì không phải số nguyên tố\n",
        "\n",
        "  prime = [True for i in range(n + 1)] # Tạo một list từ 0 đến n đều là số nguyên tố.\n",
        "  prime[0]=prime[1]= False # 0 và số 1 không phải là số nguyên tố nên được label là False.\n",
        "\n",
        "  for number in range(2, int(n**0.5) + 1): # Duyệt qua các số từ 2 đến căn bậc hai của n\n",
        "        if prime[number]: # Nếu số hiện tại vẫn còn được đánh dấu là số nguyên tố\n",
        "            for multiple in range(number * number, n + 1, number): # Đánh dấu tất cả các bội số của số đó là không phải số nguyên tố.\n",
        "                prime[multiple] = False\n",
        "  return prime[n]\n",
        "print(is_prime_eratosthenes(7))\n",
        "print(is_prime_eratosthenes(10))\n",
        "print(is_prime_eratosthenes(2))\n",
        "print(is_prime_eratosthenes(1))"
      ],
      "metadata": {
        "colab": {
          "base_uri": "https://localhost:8080/"
        },
        "id": "mu_pDyoEfnOw",
        "outputId": "3f7ed215-588a-461a-8376-b7fc003b4a1e"
      },
      "execution_count": 2,
      "outputs": [
        {
          "output_type": "stream",
          "name": "stdout",
          "text": [
            "True\n",
            "False\n",
            "True\n",
            "False\n"
          ]
        }
      ]
    },
    {
      "cell_type": "markdown",
      "source": [
        "# Day 3"
      ],
      "metadata": {
        "id": "JyXT2hspftlZ"
      }
    },
    {
      "cell_type": "code",
      "source": [
        "import random\n",
        "\n",
        "def random_number_with_condition(total):\n",
        "    random.seed(0)\n",
        "    trials = 0\n",
        "\n",
        "    while True:\n",
        "        a = random.randint(1, 20)\n",
        "        b = random.randint(1, 20)\n",
        "        trials += 1\n",
        "        if a + b == total:\n",
        "          break\n",
        "\n",
        "    return trials\n",
        "print(random_number_with_condition(40))\n",
        "print(random_number_with_condition(20))\n",
        "print(random_number_with_condition(35))"
      ],
      "metadata": {
        "id": "1MGUVE_yfwCW"
      },
      "execution_count": null,
      "outputs": []
    },
    {
      "cell_type": "markdown",
      "source": [
        "# Day 4"
      ],
      "metadata": {
        "id": "Pi7zoa0Cf5iw"
      }
    },
    {
      "cell_type": "code",
      "source": [
        " def find_divisible_number (a) :\n",
        "  x = 101\n",
        "  while True:\n",
        "    if x%a==0:\n",
        "      break\n",
        "    x += 1\n",
        "  return x\n",
        "print(find_divisible_number(5))"
      ],
      "metadata": {
        "colab": {
          "base_uri": "https://localhost:8080/"
        },
        "id": "XSh8dnRmf6w-",
        "outputId": "62b9269b-8560-4c08-b549-dfd0a3bbd5e6"
      },
      "execution_count": 3,
      "outputs": [
        {
          "output_type": "stream",
          "name": "stdout",
          "text": [
            "105\n"
          ]
        }
      ]
    },
    {
      "cell_type": "markdown",
      "source": [
        "# Day 5"
      ],
      "metadata": {
        "id": "_LZNKqeRgFCE"
      }
    },
    {
      "cell_type": "code",
      "source": [
        "def find_squared_root(a):\n",
        "    EPSILON = 0.001\n",
        "\n",
        "    x = a  # Khởi tạo xấp xỉ ban đầu\n",
        "\n",
        "    # Lặp liên tục để cải thiện xấp xỉ\n",
        "    while True:\n",
        "        x_n = (x + a / x) / 2.0\n",
        "        if abs(x_n - x) < EPSILON:\n",
        "            break\n",
        "        x = x_n # Cập nhật giá trị x cho vòng lặp tiếp theo\n",
        "\n",
        "    # Trả về kết quả xấp xỉ là căn bậc hai của a\n",
        "    return x_n\n",
        "\n",
        "print(find_squared_root(2))\n",
        "print(find_squared_root(3))"
      ],
      "metadata": {
        "colab": {
          "base_uri": "https://localhost:8080/"
        },
        "id": "WwPzopoXgHB_",
        "outputId": "31bfff75-4268-4a77-caa7-cc1263f04d07"
      },
      "execution_count": 4,
      "outputs": [
        {
          "output_type": "stream",
          "name": "stdout",
          "text": [
            "1.4142135623746899\n",
            "1.7320508100147274\n"
          ]
        }
      ]
    }
  ]
}