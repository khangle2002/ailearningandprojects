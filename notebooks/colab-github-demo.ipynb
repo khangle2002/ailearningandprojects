{
  "cells": [
    {
      "cell_type": "markdown",
      "metadata": {
        "id": "view-in-github",
        "colab_type": "text"
      },
      "source": [
        "<a href=\"https://colab.research.google.com/github/khangle2002/ailearningandprojects/blob/main/notebooks/colab-github-demo.ipynb\" target=\"_parent\"><img src=\"https://colab.research.google.com/assets/colab-badge.svg\" alt=\"Open In Colab\"/></a>"
      ]
    },
    {
      "cell_type": "code",
      "source": [
        "#Import Math Module\n",
        "import math\n",
        "#Find the derivative of the function fx= x**3*(x+1)**(-1/2)\n",
        "x = float(input(\"Choose value of x: \"))\n",
        "#Find function value\n",
        "fx= (x**3)*((x+1)**(-1/2))\n",
        "print(fx)\n",
        "#Find derivative of the function\n",
        "dx_fx= (x+1)**(-3/2)*((3*x**2)*(x+1)-((x**3)/2))\n",
        "print(dx_fx)"
      ],
      "metadata": {
        "colab": {
          "base_uri": "https://localhost:8080/"
        },
        "id": "3q9ILcpiOHS4",
        "outputId": "b0a4d6ca-5a37-490d-b38f-f6a1fec1915a"
      },
      "execution_count": 8,
      "outputs": [
        {
          "output_type": "stream",
          "name": "stdout",
          "text": [
            "Choose value of x: 3\n",
            "13.5\n",
            "11.8125\n"
          ]
        }
      ]
    },
    {
      "cell_type": "code",
      "source": [
        "#Update\n",
        "print(\"hello\")"
      ],
      "metadata": {
        "id": "lJqLOjlDWaJx"
      },
      "execution_count": null,
      "outputs": []
    }
  ],
  "metadata": {
    "colab": {
      "name": "colab-github-demo.ipynb",
      "provenance": [],
      "include_colab_link": true
    },
    "kernelspec": {
      "display_name": "Python 3",
      "name": "python3"
    }
  },
  "nbformat": 4,
  "nbformat_minor": 0
}